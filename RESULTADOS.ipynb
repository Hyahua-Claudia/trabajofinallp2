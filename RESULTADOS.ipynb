{
 "cells": [
  {
   "cell_type": "markdown",
   "id": "43e5cddf",
   "metadata": {},
   "source": [
    "# ANÁLISIS ESTADÍSTICO DE LAS CLASIFICACIONES DE LA CAMISETA"
   ]
  },
  {
   "cell_type": "markdown",
   "id": "ef23b78d",
   "metadata": {},
   "source": [
    "Según el resultado del web scraping de las reseñas de la camiseta (Funny Got Data MIS Data Systems Business Analyst),\n",
    "calculamos el promedio de las estrellas que recibió dicho producto."
   ]
  },
  {
   "cell_type": "code",
   "execution_count": 6,
   "id": "046b53e3",
   "metadata": {},
   "outputs": [],
   "source": [
    "# Calicaciones de los clientes\n",
    "data = [5, 5]\n"
   ]
  },
  {
   "cell_type": "code",
   "execution_count": 12,
   "id": "98d421bb",
   "metadata": {},
   "outputs": [
    {
     "name": "stdout",
     "output_type": "stream",
     "text": [
      "Promedio de las calificaciones por el cliente respecto a la prenda :  5.0 estrellas\n"
     ]
    }
   ],
   "source": [
    "# promedio de la califiación de los clientes\n",
    "mean = sum(data)/len(data)\n",
    "print('Promedio de las calificaciones por el cliente respecto a la prenda : ', mean, 'estrellas')"
   ]
  },
  {
   "cell_type": "markdown",
   "id": "87fdc4bf",
   "metadata": {},
   "source": [
    "De acuerdo al cálculo del promedio de las estrellas que obtuvo la prenda, se tiene un promedio de 5 estrellas, por lo tanto el producto es una buena alternativa de compra."
   ]
  },
  {
   "cell_type": "code",
   "execution_count": null,
   "id": "f8e2bd98",
   "metadata": {},
   "outputs": [],
   "source": []
  }
 ],
 "metadata": {
  "kernelspec": {
   "display_name": "Python 3 (ipykernel)",
   "language": "python",
   "name": "python3"
  },
  "language_info": {
   "codemirror_mode": {
    "name": "ipython",
    "version": 3
   },
   "file_extension": ".py",
   "mimetype": "text/x-python",
   "name": "python",
   "nbconvert_exporter": "python",
   "pygments_lexer": "ipython3",
   "version": "3.9.7"
  }
 },
 "nbformat": 4,
 "nbformat_minor": 5
}

